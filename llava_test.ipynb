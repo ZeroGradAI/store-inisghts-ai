{
 "cells": [
  {
   "cell_type": "code",
   "execution_count": 1,
   "id": "6f6e2988-f858-48c5-a3ef-e5cd945ef1df",
   "metadata": {},
   "outputs": [
    {
     "data": {
      "text/plain": [
       "'/teamspace/studios/this_studio'"
      ]
     },
     "execution_count": 1,
     "metadata": {},
     "output_type": "execute_result"
    }
   ],
   "source": [
    "pwd"
   ]
  },
  {
   "cell_type": "code",
   "execution_count": 2,
   "id": "980e286b-d9ec-4359-aa42-5eec7c648a2b",
   "metadata": {},
   "outputs": [
    {
     "name": "stdout",
     "output_type": "stream",
     "text": [
      "/teamspace/studios/this_studio/LLaVA\n"
     ]
    },
    {
     "name": "stderr",
     "output_type": "stream",
     "text": [
      "/home/zeus/miniconda3/envs/cloudspace/lib/python3.10/site-packages/IPython/core/magics/osm.py:417: UserWarning: using dhist requires you to install the `pickleshare` library.\n",
      "  self.shell.db['dhist'] = compress_dhist(dhist)[-100:]\n"
     ]
    }
   ],
   "source": [
    "cd LLaVA"
   ]
  },
  {
   "cell_type": "code",
   "execution_count": 3,
   "id": "9bd099e0-4c66-49cc-ab7b-b5cf74b63640",
   "metadata": {},
   "outputs": [
    {
     "name": "stdout",
     "output_type": "stream",
     "text": [
      "Requirement already satisfied: pip in /system/conda/miniconda3/envs/cloudspace/lib/python3.10/site-packages (25.0.1)\n",
      "Note: you may need to restart the kernel to use updated packages.\n",
      "Obtaining file:///teamspace/studios/this_studio/LLaVA\n",
      "  Installing build dependencies ... \u001b[?25ldone\n",
      "\u001b[?25h  Checking if build backend supports build_editable ... \u001b[?25ldone\n",
      "\u001b[?25h  Getting requirements to build editable ... \u001b[?25ldone\n",
      "\u001b[?25h  Preparing editable metadata (pyproject.toml) ... \u001b[?25ldone\n",
      "\u001b[?25hRequirement already satisfied: torch==2.1.2 in /system/conda/miniconda3/envs/cloudspace/lib/python3.10/site-packages (from llava==1.2.2.post1) (2.1.2)\n",
      "Requirement already satisfied: torchvision==0.16.2 in /system/conda/miniconda3/envs/cloudspace/lib/python3.10/site-packages (from llava==1.2.2.post1) (0.16.2)\n",
      "Requirement already satisfied: transformers==4.37.2 in /system/conda/miniconda3/envs/cloudspace/lib/python3.10/site-packages (from llava==1.2.2.post1) (4.37.2)\n",
      "Requirement already satisfied: tokenizers==0.15.1 in /system/conda/miniconda3/envs/cloudspace/lib/python3.10/site-packages (from llava==1.2.2.post1) (0.15.1)\n",
      "Requirement already satisfied: sentencepiece==0.1.99 in /system/conda/miniconda3/envs/cloudspace/lib/python3.10/site-packages (from llava==1.2.2.post1) (0.1.99)\n",
      "Requirement already satisfied: shortuuid in /system/conda/miniconda3/envs/cloudspace/lib/python3.10/site-packages (from llava==1.2.2.post1) (1.0.13)\n",
      "Requirement already satisfied: accelerate==0.21.0 in /system/conda/miniconda3/envs/cloudspace/lib/python3.10/site-packages (from llava==1.2.2.post1) (0.21.0)\n",
      "Requirement already satisfied: peft in /system/conda/miniconda3/envs/cloudspace/lib/python3.10/site-packages (from llava==1.2.2.post1) (0.14.0)\n",
      "Requirement already satisfied: bitsandbytes in /system/conda/miniconda3/envs/cloudspace/lib/python3.10/site-packages (from llava==1.2.2.post1) (0.45.3)\n",
      "Requirement already satisfied: pydantic in /system/conda/miniconda3/envs/cloudspace/lib/python3.10/site-packages (from llava==1.2.2.post1) (2.10.6)\n",
      "Requirement already satisfied: markdown2[all] in /system/conda/miniconda3/envs/cloudspace/lib/python3.10/site-packages (from llava==1.2.2.post1) (2.5.3)\n",
      "Requirement already satisfied: numpy in /system/conda/miniconda3/envs/cloudspace/lib/python3.10/site-packages (from llava==1.2.2.post1) (1.26.4)\n",
      "Requirement already satisfied: scikit-learn==1.2.2 in /system/conda/miniconda3/envs/cloudspace/lib/python3.10/site-packages (from llava==1.2.2.post1) (1.2.2)\n",
      "Requirement already satisfied: gradio==4.16.0 in /system/conda/miniconda3/envs/cloudspace/lib/python3.10/site-packages (from llava==1.2.2.post1) (4.16.0)\n",
      "Requirement already satisfied: gradio_client==0.8.1 in /system/conda/miniconda3/envs/cloudspace/lib/python3.10/site-packages (from llava==1.2.2.post1) (0.8.1)\n",
      "Requirement already satisfied: requests in /system/conda/miniconda3/envs/cloudspace/lib/python3.10/site-packages (from llava==1.2.2.post1) (2.32.3)\n",
      "Requirement already satisfied: httpx==0.24.0 in /system/conda/miniconda3/envs/cloudspace/lib/python3.10/site-packages (from llava==1.2.2.post1) (0.24.0)\n",
      "Requirement already satisfied: uvicorn in /system/conda/miniconda3/envs/cloudspace/lib/python3.10/site-packages (from llava==1.2.2.post1) (0.34.0)\n",
      "Requirement already satisfied: fastapi in /system/conda/miniconda3/envs/cloudspace/lib/python3.10/site-packages (from llava==1.2.2.post1) (0.115.8)\n",
      "Requirement already satisfied: einops==0.6.1 in /system/conda/miniconda3/envs/cloudspace/lib/python3.10/site-packages (from llava==1.2.2.post1) (0.6.1)\n",
      "Requirement already satisfied: einops-exts==0.0.4 in /system/conda/miniconda3/envs/cloudspace/lib/python3.10/site-packages (from llava==1.2.2.post1) (0.0.4)\n",
      "Requirement already satisfied: timm==0.6.13 in /system/conda/miniconda3/envs/cloudspace/lib/python3.10/site-packages (from llava==1.2.2.post1) (0.6.13)\n",
      "Requirement already satisfied: packaging>=20.0 in /system/conda/miniconda3/envs/cloudspace/lib/python3.10/site-packages (from accelerate==0.21.0->llava==1.2.2.post1) (24.2)\n",
      "Requirement already satisfied: psutil in /system/conda/miniconda3/envs/cloudspace/lib/python3.10/site-packages (from accelerate==0.21.0->llava==1.2.2.post1) (7.0.0)\n",
      "Requirement already satisfied: pyyaml in /system/conda/miniconda3/envs/cloudspace/lib/python3.10/site-packages (from accelerate==0.21.0->llava==1.2.2.post1) (6.0.2)\n",
      "Requirement already satisfied: aiofiles<24.0,>=22.0 in /system/conda/miniconda3/envs/cloudspace/lib/python3.10/site-packages (from gradio==4.16.0->llava==1.2.2.post1) (23.2.1)\n",
      "Requirement already satisfied: altair<6.0,>=4.2.0 in /system/conda/miniconda3/envs/cloudspace/lib/python3.10/site-packages (from gradio==4.16.0->llava==1.2.2.post1) (5.5.0)\n",
      "Requirement already satisfied: ffmpy in /system/conda/miniconda3/envs/cloudspace/lib/python3.10/site-packages (from gradio==4.16.0->llava==1.2.2.post1) (0.5.0)\n",
      "Requirement already satisfied: huggingface-hub>=0.19.3 in /system/conda/miniconda3/envs/cloudspace/lib/python3.10/site-packages (from gradio==4.16.0->llava==1.2.2.post1) (0.29.2)\n",
      "Requirement already satisfied: importlib-resources<7.0,>=1.3 in /system/conda/miniconda3/envs/cloudspace/lib/python3.10/site-packages (from gradio==4.16.0->llava==1.2.2.post1) (6.5.2)\n",
      "Requirement already satisfied: jinja2<4.0 in /system/conda/miniconda3/envs/cloudspace/lib/python3.10/site-packages (from gradio==4.16.0->llava==1.2.2.post1) (3.1.5)\n",
      "Requirement already satisfied: markupsafe~=2.0 in /system/conda/miniconda3/envs/cloudspace/lib/python3.10/site-packages (from gradio==4.16.0->llava==1.2.2.post1) (2.1.5)\n",
      "Requirement already satisfied: matplotlib~=3.0 in /system/conda/miniconda3/envs/cloudspace/lib/python3.10/site-packages (from gradio==4.16.0->llava==1.2.2.post1) (3.8.2)\n",
      "Requirement already satisfied: orjson~=3.0 in /system/conda/miniconda3/envs/cloudspace/lib/python3.10/site-packages (from gradio==4.16.0->llava==1.2.2.post1) (3.10.15)\n",
      "Requirement already satisfied: pandas<3.0,>=1.0 in /system/conda/miniconda3/envs/cloudspace/lib/python3.10/site-packages (from gradio==4.16.0->llava==1.2.2.post1) (2.1.4)\n",
      "Requirement already satisfied: pillow<11.0,>=8.0 in /system/conda/miniconda3/envs/cloudspace/lib/python3.10/site-packages (from gradio==4.16.0->llava==1.2.2.post1) (10.4.0)\n",
      "Requirement already satisfied: pydub in /system/conda/miniconda3/envs/cloudspace/lib/python3.10/site-packages (from gradio==4.16.0->llava==1.2.2.post1) (0.25.1)\n",
      "Requirement already satisfied: python-multipart in /system/conda/miniconda3/envs/cloudspace/lib/python3.10/site-packages (from gradio==4.16.0->llava==1.2.2.post1) (0.0.20)\n",
      "Requirement already satisfied: ruff>=0.1.7 in /system/conda/miniconda3/envs/cloudspace/lib/python3.10/site-packages (from gradio==4.16.0->llava==1.2.2.post1) (0.9.9)\n",
      "Requirement already satisfied: semantic-version~=2.0 in /system/conda/miniconda3/envs/cloudspace/lib/python3.10/site-packages (from gradio==4.16.0->llava==1.2.2.post1) (2.10.0)\n",
      "Requirement already satisfied: tomlkit==0.12.0 in /system/conda/miniconda3/envs/cloudspace/lib/python3.10/site-packages (from gradio==4.16.0->llava==1.2.2.post1) (0.12.0)\n",
      "Requirement already satisfied: typer<1.0,>=0.9 in /system/conda/miniconda3/envs/cloudspace/lib/python3.10/site-packages (from typer[all]<1.0,>=0.9->gradio==4.16.0->llava==1.2.2.post1) (0.15.2)\n",
      "Requirement already satisfied: typing-extensions~=4.0 in /system/conda/miniconda3/envs/cloudspace/lib/python3.10/site-packages (from gradio==4.16.0->llava==1.2.2.post1) (4.12.2)\n",
      "Requirement already satisfied: fsspec in /system/conda/miniconda3/envs/cloudspace/lib/python3.10/site-packages (from gradio_client==0.8.1->llava==1.2.2.post1) (2025.2.0)\n",
      "Requirement already satisfied: websockets<12.0,>=10.0 in /system/conda/miniconda3/envs/cloudspace/lib/python3.10/site-packages (from gradio_client==0.8.1->llava==1.2.2.post1) (11.0.3)\n",
      "Requirement already satisfied: certifi in /system/conda/miniconda3/envs/cloudspace/lib/python3.10/site-packages (from httpx==0.24.0->llava==1.2.2.post1) (2025.1.31)\n",
      "Requirement already satisfied: httpcore<0.18.0,>=0.15.0 in /system/conda/miniconda3/envs/cloudspace/lib/python3.10/site-packages (from httpx==0.24.0->llava==1.2.2.post1) (0.17.3)\n",
      "Requirement already satisfied: idna in /system/conda/miniconda3/envs/cloudspace/lib/python3.10/site-packages (from httpx==0.24.0->llava==1.2.2.post1) (3.10)\n",
      "Requirement already satisfied: sniffio in /system/conda/miniconda3/envs/cloudspace/lib/python3.10/site-packages (from httpx==0.24.0->llava==1.2.2.post1) (1.3.1)\n",
      "Requirement already satisfied: scipy>=1.3.2 in /system/conda/miniconda3/envs/cloudspace/lib/python3.10/site-packages (from scikit-learn==1.2.2->llava==1.2.2.post1) (1.11.4)\n",
      "Requirement already satisfied: joblib>=1.1.1 in /system/conda/miniconda3/envs/cloudspace/lib/python3.10/site-packages (from scikit-learn==1.2.2->llava==1.2.2.post1) (1.4.2)\n",
      "Requirement already satisfied: threadpoolctl>=2.0.0 in /system/conda/miniconda3/envs/cloudspace/lib/python3.10/site-packages (from scikit-learn==1.2.2->llava==1.2.2.post1) (3.5.0)\n",
      "Requirement already satisfied: filelock in /system/conda/miniconda3/envs/cloudspace/lib/python3.10/site-packages (from torch==2.1.2->llava==1.2.2.post1) (3.17.0)\n",
      "Requirement already satisfied: sympy in /system/conda/miniconda3/envs/cloudspace/lib/python3.10/site-packages (from torch==2.1.2->llava==1.2.2.post1) (1.13.3)\n",
      "Requirement already satisfied: networkx in /system/conda/miniconda3/envs/cloudspace/lib/python3.10/site-packages (from torch==2.1.2->llava==1.2.2.post1) (3.4.2)\n",
      "Requirement already satisfied: nvidia-cuda-nvrtc-cu12==12.1.105 in /system/conda/miniconda3/envs/cloudspace/lib/python3.10/site-packages (from torch==2.1.2->llava==1.2.2.post1) (12.1.105)\n",
      "Requirement already satisfied: nvidia-cuda-runtime-cu12==12.1.105 in /system/conda/miniconda3/envs/cloudspace/lib/python3.10/site-packages (from torch==2.1.2->llava==1.2.2.post1) (12.1.105)\n",
      "Requirement already satisfied: nvidia-cuda-cupti-cu12==12.1.105 in /system/conda/miniconda3/envs/cloudspace/lib/python3.10/site-packages (from torch==2.1.2->llava==1.2.2.post1) (12.1.105)\n",
      "Requirement already satisfied: nvidia-cudnn-cu12==8.9.2.26 in /system/conda/miniconda3/envs/cloudspace/lib/python3.10/site-packages (from torch==2.1.2->llava==1.2.2.post1) (8.9.2.26)\n",
      "Requirement already satisfied: nvidia-cublas-cu12==12.1.3.1 in /system/conda/miniconda3/envs/cloudspace/lib/python3.10/site-packages (from torch==2.1.2->llava==1.2.2.post1) (12.1.3.1)\n",
      "Requirement already satisfied: nvidia-cufft-cu12==11.0.2.54 in /system/conda/miniconda3/envs/cloudspace/lib/python3.10/site-packages (from torch==2.1.2->llava==1.2.2.post1) (11.0.2.54)\n",
      "Requirement already satisfied: nvidia-curand-cu12==10.3.2.106 in /system/conda/miniconda3/envs/cloudspace/lib/python3.10/site-packages (from torch==2.1.2->llava==1.2.2.post1) (10.3.2.106)\n",
      "Requirement already satisfied: nvidia-cusolver-cu12==11.4.5.107 in /system/conda/miniconda3/envs/cloudspace/lib/python3.10/site-packages (from torch==2.1.2->llava==1.2.2.post1) (11.4.5.107)\n",
      "Requirement already satisfied: nvidia-cusparse-cu12==12.1.0.106 in /system/conda/miniconda3/envs/cloudspace/lib/python3.10/site-packages (from torch==2.1.2->llava==1.2.2.post1) (12.1.0.106)\n",
      "Requirement already satisfied: nvidia-nccl-cu12==2.18.1 in /system/conda/miniconda3/envs/cloudspace/lib/python3.10/site-packages (from torch==2.1.2->llava==1.2.2.post1) (2.18.1)\n",
      "Requirement already satisfied: nvidia-nvtx-cu12==12.1.105 in /system/conda/miniconda3/envs/cloudspace/lib/python3.10/site-packages (from torch==2.1.2->llava==1.2.2.post1) (12.1.105)\n",
      "Requirement already satisfied: triton==2.1.0 in /system/conda/miniconda3/envs/cloudspace/lib/python3.10/site-packages (from torch==2.1.2->llava==1.2.2.post1) (2.1.0)\n",
      "Requirement already satisfied: regex!=2019.12.17 in /system/conda/miniconda3/envs/cloudspace/lib/python3.10/site-packages (from transformers==4.37.2->llava==1.2.2.post1) (2024.11.6)\n",
      "Requirement already satisfied: safetensors>=0.4.1 in /system/conda/miniconda3/envs/cloudspace/lib/python3.10/site-packages (from transformers==4.37.2->llava==1.2.2.post1) (0.5.3)\n",
      "Requirement already satisfied: tqdm>=4.27 in /system/conda/miniconda3/envs/cloudspace/lib/python3.10/site-packages (from transformers==4.37.2->llava==1.2.2.post1) (4.67.1)\n",
      "Requirement already satisfied: nvidia-nvjitlink-cu12 in /system/conda/miniconda3/envs/cloudspace/lib/python3.10/site-packages (from nvidia-cusolver-cu12==11.4.5.107->torch==2.1.2->llava==1.2.2.post1) (12.8.61)\n",
      "Requirement already satisfied: annotated-types>=0.6.0 in /system/conda/miniconda3/envs/cloudspace/lib/python3.10/site-packages (from pydantic->llava==1.2.2.post1) (0.7.0)\n",
      "Requirement already satisfied: pydantic-core==2.27.2 in /system/conda/miniconda3/envs/cloudspace/lib/python3.10/site-packages (from pydantic->llava==1.2.2.post1) (2.27.2)\n",
      "Requirement already satisfied: click>=7.0 in /system/conda/miniconda3/envs/cloudspace/lib/python3.10/site-packages (from uvicorn->llava==1.2.2.post1) (8.1.8)\n",
      "Requirement already satisfied: h11>=0.8 in /system/conda/miniconda3/envs/cloudspace/lib/python3.10/site-packages (from uvicorn->llava==1.2.2.post1) (0.14.0)\n",
      "Requirement already satisfied: starlette<0.46.0,>=0.40.0 in /system/conda/miniconda3/envs/cloudspace/lib/python3.10/site-packages (from fastapi->llava==1.2.2.post1) (0.45.3)\n",
      "Requirement already satisfied: pygments>=2.7.3 in /system/conda/miniconda3/envs/cloudspace/lib/python3.10/site-packages (from markdown2[all]->llava==1.2.2.post1) (2.19.1)\n",
      "Requirement already satisfied: wavedrom in /system/conda/miniconda3/envs/cloudspace/lib/python3.10/site-packages (from markdown2[all]->llava==1.2.2.post1) (2.0.3.post3)\n",
      "Requirement already satisfied: latex2mathml in /system/conda/miniconda3/envs/cloudspace/lib/python3.10/site-packages (from markdown2[all]->llava==1.2.2.post1) (3.77.0)\n",
      "Requirement already satisfied: charset-normalizer<4,>=2 in /system/conda/miniconda3/envs/cloudspace/lib/python3.10/site-packages (from requests->llava==1.2.2.post1) (3.4.1)\n",
      "Requirement already satisfied: urllib3<3,>=1.21.1 in /system/conda/miniconda3/envs/cloudspace/lib/python3.10/site-packages (from requests->llava==1.2.2.post1) (2.3.0)\n",
      "Requirement already satisfied: jsonschema>=3.0 in /system/conda/miniconda3/envs/cloudspace/lib/python3.10/site-packages (from altair<6.0,>=4.2.0->gradio==4.16.0->llava==1.2.2.post1) (4.23.0)\n",
      "Requirement already satisfied: narwhals>=1.14.2 in /system/conda/miniconda3/envs/cloudspace/lib/python3.10/site-packages (from altair<6.0,>=4.2.0->gradio==4.16.0->llava==1.2.2.post1) (1.29.0)\n",
      "Requirement already satisfied: anyio<5.0,>=3.0 in /system/conda/miniconda3/envs/cloudspace/lib/python3.10/site-packages (from httpcore<0.18.0,>=0.15.0->httpx==0.24.0->llava==1.2.2.post1) (4.8.0)\n",
      "Requirement already satisfied: contourpy>=1.0.1 in /system/conda/miniconda3/envs/cloudspace/lib/python3.10/site-packages (from matplotlib~=3.0->gradio==4.16.0->llava==1.2.2.post1) (1.3.1)\n",
      "Requirement already satisfied: cycler>=0.10 in /system/conda/miniconda3/envs/cloudspace/lib/python3.10/site-packages (from matplotlib~=3.0->gradio==4.16.0->llava==1.2.2.post1) (0.12.1)\n",
      "Requirement already satisfied: fonttools>=4.22.0 in /system/conda/miniconda3/envs/cloudspace/lib/python3.10/site-packages (from matplotlib~=3.0->gradio==4.16.0->llava==1.2.2.post1) (4.56.0)\n",
      "Requirement already satisfied: kiwisolver>=1.3.1 in /system/conda/miniconda3/envs/cloudspace/lib/python3.10/site-packages (from matplotlib~=3.0->gradio==4.16.0->llava==1.2.2.post1) (1.4.8)\n",
      "Requirement already satisfied: pyparsing>=2.3.1 in /system/conda/miniconda3/envs/cloudspace/lib/python3.10/site-packages (from matplotlib~=3.0->gradio==4.16.0->llava==1.2.2.post1) (3.2.1)\n",
      "Requirement already satisfied: python-dateutil>=2.7 in /system/conda/miniconda3/envs/cloudspace/lib/python3.10/site-packages (from matplotlib~=3.0->gradio==4.16.0->llava==1.2.2.post1) (2.9.0.post0)\n",
      "Requirement already satisfied: pytz>=2020.1 in /system/conda/miniconda3/envs/cloudspace/lib/python3.10/site-packages (from pandas<3.0,>=1.0->gradio==4.16.0->llava==1.2.2.post1) (2025.1)\n",
      "Requirement already satisfied: tzdata>=2022.1 in /system/conda/miniconda3/envs/cloudspace/lib/python3.10/site-packages (from pandas<3.0,>=1.0->gradio==4.16.0->llava==1.2.2.post1) (2025.1)\n",
      "Requirement already satisfied: shellingham>=1.3.0 in /system/conda/miniconda3/envs/cloudspace/lib/python3.10/site-packages (from typer<1.0,>=0.9->typer[all]<1.0,>=0.9->gradio==4.16.0->llava==1.2.2.post1) (1.5.4)\n",
      "Requirement already satisfied: rich>=10.11.0 in /system/conda/miniconda3/envs/cloudspace/lib/python3.10/site-packages (from typer<1.0,>=0.9->typer[all]<1.0,>=0.9->gradio==4.16.0->llava==1.2.2.post1) (13.9.4)\n",
      "\u001b[33mWARNING: typer 0.15.2 does not provide the extra 'all'\u001b[0m\u001b[33m\n",
      "\u001b[0mRequirement already satisfied: mpmath<1.4,>=1.1.0 in /system/conda/miniconda3/envs/cloudspace/lib/python3.10/site-packages (from sympy->torch==2.1.2->llava==1.2.2.post1) (1.3.0)\n",
      "Requirement already satisfied: svgwrite in /system/conda/miniconda3/envs/cloudspace/lib/python3.10/site-packages (from wavedrom->markdown2[all]->llava==1.2.2.post1) (1.4.3)\n",
      "Requirement already satisfied: six in /system/conda/miniconda3/envs/cloudspace/lib/python3.10/site-packages (from wavedrom->markdown2[all]->llava==1.2.2.post1) (1.17.0)\n",
      "Requirement already satisfied: exceptiongroup>=1.0.2 in /system/conda/miniconda3/envs/cloudspace/lib/python3.10/site-packages (from anyio<5.0,>=3.0->httpcore<0.18.0,>=0.15.0->httpx==0.24.0->llava==1.2.2.post1) (1.2.2)\n",
      "Requirement already satisfied: attrs>=22.2.0 in /system/conda/miniconda3/envs/cloudspace/lib/python3.10/site-packages (from jsonschema>=3.0->altair<6.0,>=4.2.0->gradio==4.16.0->llava==1.2.2.post1) (25.1.0)\n",
      "Requirement already satisfied: jsonschema-specifications>=2023.03.6 in /system/conda/miniconda3/envs/cloudspace/lib/python3.10/site-packages (from jsonschema>=3.0->altair<6.0,>=4.2.0->gradio==4.16.0->llava==1.2.2.post1) (2024.10.1)\n",
      "Requirement already satisfied: referencing>=0.28.4 in /system/conda/miniconda3/envs/cloudspace/lib/python3.10/site-packages (from jsonschema>=3.0->altair<6.0,>=4.2.0->gradio==4.16.0->llava==1.2.2.post1) (0.36.2)\n",
      "Requirement already satisfied: rpds-py>=0.7.1 in /system/conda/miniconda3/envs/cloudspace/lib/python3.10/site-packages (from jsonschema>=3.0->altair<6.0,>=4.2.0->gradio==4.16.0->llava==1.2.2.post1) (0.23.1)\n",
      "Requirement already satisfied: markdown-it-py>=2.2.0 in /system/conda/miniconda3/envs/cloudspace/lib/python3.10/site-packages (from rich>=10.11.0->typer<1.0,>=0.9->typer[all]<1.0,>=0.9->gradio==4.16.0->llava==1.2.2.post1) (3.0.0)\n",
      "Requirement already satisfied: mdurl~=0.1 in /system/conda/miniconda3/envs/cloudspace/lib/python3.10/site-packages (from markdown-it-py>=2.2.0->rich>=10.11.0->typer<1.0,>=0.9->typer[all]<1.0,>=0.9->gradio==4.16.0->llava==1.2.2.post1) (0.1.2)\n",
      "Building wheels for collected packages: llava\n",
      "  Building editable for llava (pyproject.toml) ... \u001b[?25ldone\n",
      "\u001b[?25h  Created wheel for llava: filename=llava-1.2.2.post1-0.editable-py3-none-any.whl size=17877 sha256=e49a743029a9939cb4e8c484b2eea9403c44c33a79bc0608dacd4672066f3c55\n",
      "  Stored in directory: /tmp/pip-ephem-wheel-cache-j36ihx5f/wheels/80/0b/8b/d41e09c3dc3c06e6888edd982adf4579ce57e40664ec348c59\n",
      "Successfully built llava\n",
      "Installing collected packages: llava\n",
      "  Attempting uninstall: llava\n",
      "    Found existing installation: llava 1.2.2.post1\n",
      "    Uninstalling llava-1.2.2.post1:\n",
      "      Successfully uninstalled llava-1.2.2.post1\n",
      "Successfully installed llava-1.2.2.post1\n",
      "Note: you may need to restart the kernel to use updated packages.\n"
     ]
    }
   ],
   "source": [
    "%pip install --upgrade pip\n",
    "%pip install -e ."
   ]
  },
  {
   "cell_type": "code",
   "execution_count": 1,
   "id": "127fb58f-e9a1-49c9-8910-d3590a8eb736",
   "metadata": {},
   "outputs": [],
   "source": [
    "from llava.eval.run_llava import eval_model\n",
    "from llava.mm_utils import get_model_name_from_path"
   ]
  },
  {
   "cell_type": "code",
   "execution_count": 5,
   "id": "81ce5781-5cf0-482f-981d-1f25a6a95e04",
   "metadata": {},
   "outputs": [],
   "source": [
    "model_path = \"liuhaotian/llava-v1.5-7b\"\n",
    "prompt = \" Analyze this store image and provide the following information: 1. Number of men and women visible:, 2. Products customers appear to be looking at:, 3. Insights about customer behavior and preferences based on the image:\"\n",
    "image_file = \"LLaVA/test_store.jpg\""
   ]
  },
  {
   "cell_type": "code",
   "execution_count": 6,
   "id": "98785f6b-ca2b-4593-989f-129a6dfe7269",
   "metadata": {},
   "outputs": [],
   "source": [
    "args = type('Args', (), {\n",
    "    \"model_path\": model_path,\n",
    "    \"model_base\": None,\n",
    "    \"model_name\": get_model_name_from_path(model_path),\n",
    "    \"query\": prompt,\n",
    "    \"conv_mode\": None,\n",
    "    \"image_file\": image_file,\n",
    "    \"sep\": \",\",\n",
    "    \"temperature\": 0,\n",
    "    \"top_p\": None,\n",
    "    \"num_beams\": 1,\n",
    "    \"max_new_tokens\": 512\n",
    "})()\n"
   ]
  },
  {
   "cell_type": "code",
   "execution_count": 7,
   "id": "5da0d102-e7ff-4ab6-b862-38e089d97c62",
   "metadata": {},
   "outputs": [
    {
     "name": "stderr",
     "output_type": "stream",
     "text": [
      "You are using a model of type llava to instantiate a model of type llava_llama. This is not supported for all configurations of models and can yield errors.\n"
     ]
    },
    {
     "data": {
      "application/vnd.jupyter.widget-view+json": {
       "model_id": "562833c6a8404c4fba11622d220d3bee",
       "version_major": 2,
       "version_minor": 0
      },
      "text/plain": [
       "Loading checkpoint shards:   0%|          | 0/2 [00:00<?, ?it/s]"
      ]
     },
     "metadata": {},
     "output_type": "display_data"
    },
    {
     "name": "stdout",
     "output_type": "stream",
     "text": [
      "1. There are two men and two women visible in the image.\n",
      "2. Customers are looking at various products, including bottles, cans, and other groceries.\n",
      "3. Based on the image, customers seem to be browsing and shopping for different items, indicating a diverse range of preferences and needs. The presence of multiple people in the store suggests that it is a popular location for shopping, and the variety of products available caters to different tastes and requirements.\n"
     ]
    }
   ],
   "source": [
    "eval_model(args)"
   ]
  },
  {
   "cell_type": "code",
   "execution_count": null,
   "id": "443361fa-7f9d-474d-b960-003cb2ceff4e",
   "metadata": {},
   "outputs": [],
   "source": []
  }
 ],
 "metadata": {
  "kernelspec": {
   "display_name": "Python 3",
   "language": "python",
   "name": "python3"
  },
  "language_info": {
   "codemirror_mode": {
    "name": "ipython",
    "version": 3
   },
   "file_extension": ".py",
   "mimetype": "text/x-python",
   "name": "python",
   "nbconvert_exporter": "python",
   "pygments_lexer": "ipython3",
   "version": "3.10.10"
  }
 },
 "nbformat": 4,
 "nbformat_minor": 5
}
